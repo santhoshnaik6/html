{
  "nbformat": 4,
  "nbformat_minor": 0,
  "metadata": {
    "colab": {
      "name": "Untitled0.ipynb",
      "provenance": [],
      "authorship_tag": "ABX9TyPXiz7d6Z+nW8LvgXz2Or1p",
      "include_colab_link": true
    },
    "kernelspec": {
      "name": "python3",
      "display_name": "Python 3"
    },
    "language_info": {
      "name": "python"
    }
  },
  "cells": [
    {
      "cell_type": "markdown",
      "metadata": {
        "id": "view-in-github",
        "colab_type": "text"
      },
      "source": [
        "<a href=\"https://colab.research.google.com/github/santhoshnaik6/html/blob/main/Untitled0.ipynb\" target=\"_parent\"><img src=\"https://colab.research.google.com/assets/colab-badge.svg\" alt=\"Open In Colab\"/></a>"
      ]
    },
    {
      "cell_type": "code",
      "source": [
        "pip install numdifftools"
      ],
      "metadata": {
        "colab": {
          "base_uri": "https://localhost:8080/"
        },
        "id": "QrHO7FegK8Om",
        "outputId": "3e21d094-7c17-4838-c01a-d431cbf161c1"
      },
      "execution_count": 3,
      "outputs": [
        {
          "output_type": "stream",
          "name": "stdout",
          "text": [
            "Collecting numdifftools\n",
            "  Downloading numdifftools-0.9.40-py2.py3-none-any.whl (99 kB)\n",
            "\u001b[?25l\r\u001b[K     |███▎                            | 10 kB 20.2 MB/s eta 0:00:01\r\u001b[K     |██████▋                         | 20 kB 26.3 MB/s eta 0:00:01\r\u001b[K     |██████████                      | 30 kB 15.9 MB/s eta 0:00:01\r\u001b[K     |█████████████▏                  | 40 kB 11.6 MB/s eta 0:00:01\r\u001b[K     |████████████████▌               | 51 kB 8.4 MB/s eta 0:00:01\r\u001b[K     |███████████████████▉            | 61 kB 8.9 MB/s eta 0:00:01\r\u001b[K     |███████████████████████▏        | 71 kB 7.4 MB/s eta 0:00:01\r\u001b[K     |██████████████████████████▍     | 81 kB 8.2 MB/s eta 0:00:01\r\u001b[K     |█████████████████████████████▊  | 92 kB 7.2 MB/s eta 0:00:01\r\u001b[K     |████████████████████████████████| 99 kB 4.3 MB/s \n",
            "\u001b[?25hRequirement already satisfied: scipy>=0.8 in /usr/local/lib/python3.7/dist-packages (from numdifftools) (1.4.1)\n",
            "Requirement already satisfied: numpy>=1.9 in /usr/local/lib/python3.7/dist-packages (from numdifftools) (1.19.5)\n",
            "Requirement already satisfied: statsmodels>=0.6 in /usr/local/lib/python3.7/dist-packages (from numdifftools) (0.10.2)\n",
            "Collecting algopy>=0.4\n",
            "  Downloading algopy-0.5.7.zip (189 kB)\n",
            "\u001b[?25l\r\u001b[K     |█▊                              | 10 kB 30.8 MB/s eta 0:00:01\r\u001b[K     |███▌                            | 20 kB 35.2 MB/s eta 0:00:01\r\u001b[K     |█████▏                          | 30 kB 42.6 MB/s eta 0:00:01\r\u001b[K     |███████                         | 40 kB 46.5 MB/s eta 0:00:01\r\u001b[K     |████████▋                       | 51 kB 47.7 MB/s eta 0:00:01\r\u001b[K     |██████████▍                     | 61 kB 51.0 MB/s eta 0:00:01\r\u001b[K     |████████████                    | 71 kB 51.9 MB/s eta 0:00:01\r\u001b[K     |█████████████▉                  | 81 kB 53.3 MB/s eta 0:00:01\r\u001b[K     |███████████████▋                | 92 kB 52.2 MB/s eta 0:00:01\r\u001b[K     |█████████████████▎              | 102 kB 51.3 MB/s eta 0:00:01\r\u001b[K     |███████████████████             | 112 kB 51.3 MB/s eta 0:00:01\r\u001b[K     |████████████████████▊           | 122 kB 51.3 MB/s eta 0:00:01\r\u001b[K     |██████████████████████▌         | 133 kB 51.3 MB/s eta 0:00:01\r\u001b[K     |████████████████████████▏       | 143 kB 51.3 MB/s eta 0:00:01\r\u001b[K     |██████████████████████████      | 153 kB 51.3 MB/s eta 0:00:01\r\u001b[K     |███████████████████████████▋    | 163 kB 51.3 MB/s eta 0:00:01\r\u001b[K     |█████████████████████████████▍  | 174 kB 51.3 MB/s eta 0:00:01\r\u001b[K     |███████████████████████████████▏| 184 kB 51.3 MB/s eta 0:00:01\r\u001b[K     |████████████████████████████████| 189 kB 51.3 MB/s \n",
            "\u001b[?25hRequirement already satisfied: patsy>=0.4.0 in /usr/local/lib/python3.7/dist-packages (from statsmodels>=0.6->numdifftools) (0.5.2)\n",
            "Requirement already satisfied: pandas>=0.19 in /usr/local/lib/python3.7/dist-packages (from statsmodels>=0.6->numdifftools) (1.1.5)\n",
            "Requirement already satisfied: pytz>=2017.2 in /usr/local/lib/python3.7/dist-packages (from pandas>=0.19->statsmodels>=0.6->numdifftools) (2018.9)\n",
            "Requirement already satisfied: python-dateutil>=2.7.3 in /usr/local/lib/python3.7/dist-packages (from pandas>=0.19->statsmodels>=0.6->numdifftools) (2.8.2)\n",
            "Requirement already satisfied: six in /usr/local/lib/python3.7/dist-packages (from patsy>=0.4.0->statsmodels>=0.6->numdifftools) (1.15.0)\n",
            "Building wheels for collected packages: algopy\n",
            "  Building wheel for algopy (setup.py) ... \u001b[?25l\u001b[?25hdone\n",
            "  Created wheel for algopy: filename=algopy-0.5.7-py3-none-any.whl size=107608 sha256=1d5565cfeb52bba2a26f6c2edcdacc7483d46cac45da4457ca7b4de732e61aff\n",
            "  Stored in directory: /root/.cache/pip/wheels/a8/fd/06/21dc6aba9f680fdbde386c06b1a8a1cf3d9a5f6bd96e31dcd4\n",
            "Successfully built algopy\n",
            "Installing collected packages: algopy, numdifftools\n",
            "Successfully installed algopy-0.5.7 numdifftools-0.9.40\n"
          ]
        }
      ]
    },
    {
      "cell_type": "code",
      "source": [
        "import numdifftools as nd"
      ],
      "metadata": {
        "id": "RARQCUdzLKKE"
      },
      "execution_count": 4,
      "outputs": []
    },
    {
      "cell_type": "code",
      "source": [
        "def mulvab(x):\n",
        "  return 12.069*x[0]**2 +21.504*x[1]**2 -1.731*x[0] -x[1]"
      ],
      "metadata": {
        "id": "mD_3lWJsLQDS"
      },
      "execution_count": 5,
      "outputs": []
    },
    {
      "cell_type": "code",
      "source": [
        "grad1= nd.Gradient(mulvab)([5,6])"
      ],
      "metadata": {
        "id": "OuVqU-jTMIRr"
      },
      "execution_count": 7,
      "outputs": []
    },
    {
      "cell_type": "code",
      "source": [
        "print(\"Gradient of this is \", grad1)"
      ],
      "metadata": {
        "colab": {
          "base_uri": "https://localhost:8080/"
        },
        "id": "ovJ3Hl1tMn4E",
        "outputId": "306cbf78-ef4a-413a-e5b1-88c286a02951"
      },
      "execution_count": 8,
      "outputs": [
        {
          "output_type": "stream",
          "name": "stdout",
          "text": [
            "Gradient of this is  [118.959 257.048]\n"
          ]
        }
      ]
    }
  ]
}