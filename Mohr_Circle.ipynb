{
  "nbformat": 4,
  "nbformat_minor": 0,
  "metadata": {
    "colab": {
      "name": "Mohr Circle.ipynb",
      "provenance": [],
      "authorship_tag": "ABX9TyPJVlk+8sKgAEjWOwLvrq0I",
      "include_colab_link": true
    },
    "kernelspec": {
      "name": "python3",
      "display_name": "Python 3"
    },
    "language_info": {
      "name": "python"
    }
  },
  "cells": [
    {
      "cell_type": "markdown",
      "metadata": {
        "id": "view-in-github",
        "colab_type": "text"
      },
      "source": [
        "<a href=\"https://colab.research.google.com/github/santhoshnaik6/html/blob/main/Mohr_Circle.ipynb\" target=\"_parent\"><img src=\"https://colab.research.google.com/assets/colab-badge.svg\" alt=\"Open In Colab\"/></a>"
      ]
    },
    {
      "cell_type": "code",
      "execution_count": 1,
      "metadata": {
        "id": "n63FrhW1ockX"
      },
      "outputs": [],
      "source": [
        "import numpy as np\n",
        "import pandas as pd\n",
        "from  matplotlib import pyplot as pt"
      ]
    },
    {
      "cell_type": "code",
      "source": [
        "def radius(sigma_x,sigma_y,tau_xy):\n",
        "  return np.sqrt((0.5*(sigma_x -sigma_y))**2 +(tau_xy)**2)"
      ],
      "metadata": {
        "id": "16w_jEw6o_el"
      },
      "execution_count": 2,
      "outputs": []
    },
    {
      "cell_type": "code",
      "source": [
        "def sigma_avg(sigma_x,sigma_y):\n",
        "  return (sigma_x+sigma_y)/2"
      ],
      "metadata": {
        "id": "VEGYPo1rqEr7"
      },
      "execution_count": 4,
      "outputs": []
    },
    {
      "cell_type": "code",
      "source": [
        ""
      ],
      "metadata": {
        "id": "PwQSAwnRqiL2"
      },
      "execution_count": null,
      "outputs": []
    }
  ]
}